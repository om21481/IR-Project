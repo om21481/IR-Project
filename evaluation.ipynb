{
 "cells": [
  {
   "cell_type": "code",
   "execution_count": 1,
   "metadata": {},
   "outputs": [
    {
     "data": {
      "text/plain": [
       "[{'rouge-1': {'r': 0.37662337662337664, 'p': 0.25, 'f': 0.3005181299191925},\n",
       "  'rouge-2': {'r': 0.15730337078651685,\n",
       "   'p': 0.07777777777777778,\n",
       "   'f': 0.1040892149030557},\n",
       "  'rouge-l': {'r': 0.36363636363636365,\n",
       "   'p': 0.2413793103448276,\n",
       "   'f': 0.29015543561867435}}]"
      ]
     },
     "execution_count": 1,
     "metadata": {},
     "output_type": "execute_result"
    }
   ],
   "source": [
    "from rouge import Rouge\n",
    "hyp=\"How is ITC contributing to Amrit Kaal?\\n\\nITC has embarked on an ambitious sustainability journey to raise the bar and create a secure better tomorrow. The company is committed to driving growth and competitiveness while prioritizing sustainable progress and contributing to India\\'s journey towards Amrit Kaal. ITC\\'s multi-dimensional growth driver is propelling the company towards new horizons of competitive sustainable progress, creating value in agriculture, manufacturing, and services.\\n\\nThe company is inspired by the credo of Sab Saath Badhein, and has pioneered a paradigm of responsible competitiveness, focusing on building extreme competitiveness while serving national priorities and generating sustainable livelihoods. ITC contributes to nation-building by unleashing multiple driver growth, manifesting a growing presence across the three sectors of the economy - agriculture, manufacturing, and services.\\n\\nITC is creating enduring value for stakeholders through its iconic hospitality assets, empowering farmers and rural communities, and creating a sustainable and inclusive enterprise powered by agility, competitiveness, resilience, and consumer centricity. The company is identifying new avenues of growth while fortifying existing businesses, placing a higher order of structural competitiveness and creating new vitality enterprise strategic interventions to make a growing contribution to the nation\\'s journey towards Amrit Kaal.\"\n",
    "ref=\"n the financial year 2022-23, ITC contributed to India's Amrit Kaal vision by emphasizing sustainable and inclusive growth, aligning with national priorities. The company focused on enhancing its competitiveness while fostering environmental enrichment and generating sustainable livelihoods. ITC's initiatives spanned various sectors, including agriculture, manufacturing, and services, significantly supporting over 6 million farmers through its e-Choupal initiative and contributing extensively to watershed development and afforestation. These efforts were part of ITC's broader strategy to build a resilient and future-ready organization that supports India's long-term development goals​ (ITC Ltd)​​ (ITC Ltd)​.\"\n",
    "rouge=Rouge()\n",
    "scores=rouge.get_scores(hyp,ref)\n",
    "scores"
   ]
  },
  {
   "cell_type": "code",
   "execution_count": 2,
   "metadata": {},
   "outputs": [
    {
     "data": {
      "text/plain": [
       "[{'rouge-1': {'r': 0.03896103896103896,\n",
       "   'p': 0.14285714285714285,\n",
       "   'f': 0.06122448642857161},\n",
       "  'rouge-2': {'r': 0.0, 'p': 0.0, 'f': 0.0},\n",
       "  'rouge-l': {'r': 0.03896103896103896,\n",
       "   'p': 0.14285714285714285,\n",
       "   'f': 0.06122448642857161}}]"
      ]
     },
     "execution_count": 2,
     "metadata": {},
     "output_type": "execute_result"
    }
   ],
   "source": [
    "from rouge import Rouge\n",
    "hyp=\"I don't have enough information to answer your question. If the question is too broad, you can provide a general answer. If the question is too narrow, you can provide a specific answer.If the question is too broad, you can provide a general answer.\"\n",
    "ref=\"n the financial year 2022-23, ITC contributed to India's Amrit Kaal vision by emphasizing sustainable and inclusive growth, aligning with national priorities. The company focused on enhancing its competitiveness while fostering environmental enrichment and generating sustainable livelihoods. ITC's initiatives spanned various sectors, including agriculture, manufacturing, and services, significantly supporting over 6 million farmers through its e-Choupal initiative and contributing extensively to watershed development and afforestation. These efforts were part of ITC's broader strategy to build a resilient and future-ready organization that supports India's long-term development goals​ (ITC Ltd)​​ (ITC Ltd)​.\"\n",
    "rouge=Rouge()\n",
    "scores=rouge.get_scores(hyp,ref)\n",
    "scores"
   ]
  },
  {
   "cell_type": "code",
   "execution_count": 1,
   "metadata": {},
   "outputs": [
    {
     "data": {
      "text/plain": [
       "[{'rouge-1': {'r': 0.16216216216216217,\n",
       "   'p': 0.20689655172413793,\n",
       "   'f': 0.18181817689164384},\n",
       "  'rouge-2': {'r': 0.05263157894736842,\n",
       "   'p': 0.05555555555555555,\n",
       "   'f': 0.05405404905770682},\n",
       "  'rouge-l': {'r': 0.13513513513513514,\n",
       "   'p': 0.1724137931034483,\n",
       "   'f': 0.15151514658861356}}]"
      ]
     },
     "execution_count": 1,
     "metadata": {},
     "output_type": "execute_result"
    }
   ],
   "source": [
    "from rouge import Rouge\n",
    "hyp=\"ITC company recorded total income of 70936.85 crore in the previous year, and the latest quarter net profit was 5339.69 crore.Based on the provided contexts, the net profit of ITC company for this year is 5339.69 crore.\"\n",
    "ref=\"For the financial year 2022-23, ITC Limited reported a net profit of ₹18,753.31 crores. This figure reflects the company's performance across its various business sectors including FMCG, Hotels, Packaging, Paperboards & Specialty Papers, Agri & IT Businesses​ (itcportal)​.\"\n",
    "rouge=Rouge()\n",
    "scores=rouge.get_scores(hyp,ref)\n",
    "scores"
   ]
  },
  {
   "cell_type": "code",
   "execution_count": null,
   "metadata": {},
   "outputs": [],
   "source": []
  }
 ],
 "metadata": {
  "kernelspec": {
   "display_name": "ir_env",
   "language": "python",
   "name": "python3"
  },
  "language_info": {
   "codemirror_mode": {
    "name": "ipython",
    "version": 3
   },
   "file_extension": ".py",
   "mimetype": "text/x-python",
   "name": "python",
   "nbconvert_exporter": "python",
   "pygments_lexer": "ipython3",
   "version": "3.8.5"
  }
 },
 "nbformat": 4,
 "nbformat_minor": 2
}
